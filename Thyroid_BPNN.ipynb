{
  "nbformat": 4,
  "nbformat_minor": 0,
  "metadata": {
    "colab": {
      "name": "Thyroid_BPNN.ipynb",
      "provenance": [],
      "collapsed_sections": [],
      "include_colab_link": true
    },
    "kernelspec": {
      "name": "python3",
      "display_name": "Python 3"
    },
    "language_info": {
      "name": "python"
    }
  },
  "cells": [
    {
      "cell_type": "markdown",
      "metadata": {
        "id": "view-in-github",
        "colab_type": "text"
      },
      "source": [
        "<a href=\"https://colab.research.google.com/github/Keii35100/Thyriod_BPNN/blob/CubaanInsanitydsl/Thyroid_BPNN.ipynb\" target=\"_parent\"><img src=\"https://colab.research.google.com/assets/colab-badge.svg\" alt=\"Open In Colab\"/></a>"
      ]
    },
    {
      "cell_type": "code",
      "execution_count": null,
      "metadata": {
        "id": "sBkBFhH3xmck"
      },
      "outputs": [],
      "source": [
        "import pandas as pd\n",
        "from sklearn.model_selection import train_test_split\n",
        "from keras.models import Sequential\n",
        "from keras.layers import Dense\n",
        "import seaborn as sns\n",
        "import matplotlib.pyplot as plt\n",
        "%matplotlib inline\n",
        "from sklearn.metrics import confusion_matrix\n",
        "\n",
        "import tensorflow as tf\n",
        "from tensorflow import keras\n",
        "from tensorflow.keras import layers"
      ]
    },
    {
      "cell_type": "code",
      "source": [
        "# read data\n",
        "df = pd.read_csv('cl_thyroid_conditions(1).csv')\n",
        "\n",
        "# check for missing values - train\n",
        "df.info()"
      ],
      "metadata": {
        "colab": {
          "base_uri": "https://localhost:8080/"
        },
        "id": "8n8UF2gMxtsL",
        "outputId": "a70e0aa5-c293-432a-a175-f4c4c90a7290"
      },
      "execution_count": 16,
      "outputs": [
        {
          "output_type": "stream",
          "name": "stdout",
          "text": [
            "<class 'pandas.core.frame.DataFrame'>\n",
            "RangeIndex: 516 entries, 0 to 515\n",
            "Data columns (total 8 columns):\n",
            " #   Column       Non-Null Count  Dtype  \n",
            "---  ------       --------------  -----  \n",
            " 0   age          516 non-null    float64\n",
            " 1   sex=M        516 non-null    int64  \n",
            " 2   TSH          516 non-null    float64\n",
            " 3   T3           516 non-null    float64\n",
            " 4   TT4          516 non-null    float64\n",
            " 5   T4U          516 non-null    float64\n",
            " 6   FTI          516 non-null    float64\n",
            " 7   target_sick  516 non-null    int64  \n",
            "dtypes: float64(6), int64(2)\n",
            "memory usage: 32.4 KB\n"
          ]
        }
      ]
    },
    {
      "cell_type": "code",
      "source": [
        "df['target_sick'].value_counts()\n",
        "\n",
        "#(300/(300+216))"
      ],
      "metadata": {
        "colab": {
          "base_uri": "https://localhost:8080/"
        },
        "id": "us5lhIPRyplA",
        "outputId": "abba2677-56e4-42d1-ce11-32e91b813925"
      },
      "execution_count": 18,
      "outputs": [
        {
          "output_type": "execute_result",
          "data": {
            "text/plain": [
              "0    300\n",
              "1    216\n",
              "Name: target_sick, dtype: int64"
            ]
          },
          "metadata": {},
          "execution_count": 18
        }
      ]
    },
    {
      "cell_type": "code",
      "source": [
        "# split into X and Y\n",
        "x = df.drop(['sex=M', 'target_sick'], axis = 1)\n",
        "y = df['target_sick']\n",
        "\n",
        "x_train, x_test, y_train, y_test = train_test_split(x, y, test_size=0.2, stratify=y, random_state=0)\n",
        "\n",
        "# convert to numpy arrays\n",
        "#X = np.array(X)"
      ],
      "metadata": {
        "id": "sfT0VCAF6H-q"
      },
      "execution_count": 19,
      "outputs": []
    },
    {
      "cell_type": "code",
      "source": [
        "model = Sequential() \n",
        "model.add(Dense(128, activation='relu', input_dim=6))\n",
        "model.add(Dense(1, activation='sigmoid')) \n",
        "model.compile(loss='binary_crossentropy', optimizer='adam', metrics=['accuracy']) \n",
        "model.summary()"
      ],
      "metadata": {
        "colab": {
          "base_uri": "https://localhost:8080/"
        },
        "id": "hBrouGhi62KH",
        "outputId": "c42c305b-179f-4e3c-9392-028b2d050559"
      },
      "execution_count": 21,
      "outputs": [
        {
          "output_type": "stream",
          "name": "stdout",
          "text": [
            "Model: \"sequential_3\"\n",
            "_________________________________________________________________\n",
            " Layer (type)                Output Shape              Param #   \n",
            "=================================================================\n",
            " dense_6 (Dense)             (None, 128)               896       \n",
            "                                                                 \n",
            " dense_7 (Dense)             (None, 1)                 129       \n",
            "                                                                 \n",
            "=================================================================\n",
            "Total params: 1,025\n",
            "Trainable params: 1,025\n",
            "Non-trainable params: 0\n",
            "_________________________________________________________________\n"
          ]
        }
      ]
    },
    {
      "cell_type": "code",
      "source": [
        "print(\"Fit model on training data\")\n",
        "hist = model.fit(x_train, y_train, validation_data=(x_test, y_test), epochs=10, batch_size=100)\n"
      ],
      "metadata": {
        "colab": {
          "base_uri": "https://localhost:8080/"
        },
        "id": "x-VdCV3HHnHS",
        "outputId": "636bff8f-fbcf-4210-b09f-f937e7ecf828"
      },
      "execution_count": 22,
      "outputs": [
        {
          "output_type": "stream",
          "name": "stdout",
          "text": [
            "Fit model on training data\n",
            "Epoch 1/10\n",
            "5/5 [==============================] - 1s 55ms/step - loss: 0.6833 - accuracy: 0.5825 - val_loss: 0.6687 - val_accuracy: 0.6154\n",
            "Epoch 2/10\n",
            "5/5 [==============================] - 0s 8ms/step - loss: 0.6690 - accuracy: 0.5825 - val_loss: 0.6556 - val_accuracy: 0.5769\n",
            "Epoch 3/10\n",
            "5/5 [==============================] - 0s 10ms/step - loss: 0.6572 - accuracy: 0.5825 - val_loss: 0.6452 - val_accuracy: 0.5769\n",
            "Epoch 4/10\n",
            "5/5 [==============================] - 0s 9ms/step - loss: 0.6473 - accuracy: 0.5825 - val_loss: 0.6350 - val_accuracy: 0.5769\n",
            "Epoch 5/10\n",
            "5/5 [==============================] - 0s 9ms/step - loss: 0.6377 - accuracy: 0.5850 - val_loss: 0.6246 - val_accuracy: 0.5769\n",
            "Epoch 6/10\n",
            "5/5 [==============================] - 0s 10ms/step - loss: 0.6281 - accuracy: 0.5850 - val_loss: 0.6141 - val_accuracy: 0.5769\n",
            "Epoch 7/10\n",
            "5/5 [==============================] - 0s 11ms/step - loss: 0.6183 - accuracy: 0.5850 - val_loss: 0.6040 - val_accuracy: 0.5769\n",
            "Epoch 8/10\n",
            "5/5 [==============================] - 0s 13ms/step - loss: 0.6091 - accuracy: 0.5850 - val_loss: 0.5946 - val_accuracy: 0.5865\n",
            "Epoch 9/10\n",
            "5/5 [==============================] - 0s 10ms/step - loss: 0.6005 - accuracy: 0.5898 - val_loss: 0.5850 - val_accuracy: 0.6058\n",
            "Epoch 10/10\n",
            "5/5 [==============================] - 0s 12ms/step - loss: 0.5920 - accuracy: 0.6044 - val_loss: 0.5749 - val_accuracy: 0.6250\n"
          ]
        }
      ]
    },
    {
      "cell_type": "code",
      "source": [
        "sns.set()\n",
        "acc = hist.history['accuracy']\n",
        "val = hist.history['val_accuracy']\n",
        "epochs = range(1, len(acc) + 1)\n",
        "\n",
        "plt.plot(epochs, acc, '-', label='Training accuracy')\n",
        "plt.plot(epochs, val, ':', label='Validation accuracy')\n",
        "plt.title('Training and Validation Accuracy')\n",
        "plt.xlabel('Epoch')\n",
        "plt.ylabel('Accuracy')\n",
        "plt.legend(loc='lower right')\n",
        "plt.plot()"
      ],
      "metadata": {
        "colab": {
          "base_uri": "https://localhost:8080/",
          "height": 318
        },
        "id": "qZdY9PDOHu6K",
        "outputId": "3a6bace5-055d-4dda-dbd3-a75246dc2043"
      },
      "execution_count": 23,
      "outputs": [
        {
          "output_type": "execute_result",
          "data": {
            "text/plain": [
              "[]"
            ]
          },
          "metadata": {},
          "execution_count": 23
        },
        {
          "output_type": "display_data",
          "data": {
            "text/plain": [
              "<Figure size 432x288 with 1 Axes>"
            ],
            "image/png": "[encoded data removed]"
          },
          "metadata": {}
        }
      ]
    },
    {
      "cell_type": "code",
      "source": [
        "y_predicted = model.predict(x_test) > 0.5\n",
        "mat = confusion_matrix(y_test, y_predicted)\n",
        "labels = ['Negative', 'Sick']\n",
        "\n",
        "sns.heatmap(mat, square=True, annot=True, fmt='d', cbar=False, cmap='Blues',\n",
        "            xticklabels=labels, yticklabels=labels)\n",
        "\n",
        "plt.xlabel('Predicted label')\n",
        "plt.ylabel('Actual label')"
      ],
      "metadata": {
        "id": "loFM7wmjH-Kz",
        "colab": {
          "base_uri": "https://localhost:8080/",
          "height": 302
        },
        "outputId": "6e6d9a1d-62cd-476a-f7d4-4a5d0cb58658"
      },
      "execution_count": 24,
      "outputs": [
        {
          "output_type": "execute_result",
          "data": {
            "text/plain": [
              "Text(89.18, 0.5, 'Actual label')"
            ]
          },
          "metadata": {},
          "execution_count": 24
        },
        {
          "output_type": "display_data",
          "data": {
            "text/plain": [
              "<Figure size 432x288 with 1 Axes>"
            ],
            "image/png": "[encoded data removed]"
          },
          "metadata": {}
        }
      ]
    }
  ]
}