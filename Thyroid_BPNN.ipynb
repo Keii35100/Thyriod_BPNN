{
  "nbformat": 4,
  "nbformat_minor": 0,
  "metadata": {
    "colab": {
      "name": "Thyroid_BPNN.ipynb",
      "provenance": [],
      "collapsed_sections": [],
      "authorship_tag": "ABX9TyNzwte3ngaTdRmBYSESa2BE",
      "include_colab_link": true
    },
    "kernelspec": {
      "name": "python3",
      "display_name": "Python 3"
    },
    "language_info": {
      "name": "python"
    }
  },
  "cells": [
    {
      "cell_type": "markdown",
      "metadata": {
        "id": "view-in-github",
        "colab_type": "text"
      },
      "source": [
        "<a href=\"https://colab.research.google.com/github/Keii35100/Thyriod_BPNN/blob/cubaanInsanitydsl/Thyroid_BPNN.ipynb\" target=\"_parent\"><img src=\"https://colab.research.google.com/assets/colab-badge.svg\" alt=\"Open In Colab\"/></a>"
      ]
    },
    {
      "cell_type": "code",
      "execution_count": 2,
      "metadata": {
        "id": "TAja6KvPjEHO"
      },
      "outputs": [],
      "source": [
        "import numpy \n",
        "x1=0.1\n",
        "x2=0.4\n",
        "\n",
        "target = 0.7\n",
        "learning_rate = 0.01\n",
        "\n",
        "w1=numpy.random.rand()\n",
        "w2=numpy.random.rand()\n",
        "\n",
        "print(\"Initial W : \", w1, w2)\n",
        "\n",
        "predicted_output = []\n",
        "network_error = []"
      ]
    }
  ]
}